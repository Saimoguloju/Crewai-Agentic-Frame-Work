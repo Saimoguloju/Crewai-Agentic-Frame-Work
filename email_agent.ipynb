{
 "cells": [
  {
   "cell_type": "code",
   "execution_count": 1,
   "metadata": {},
   "outputs": [
    {
     "data": {
      "text/plain": [
       "True"
      ]
     },
     "execution_count": 1,
     "metadata": {},
     "output_type": "execute_result"
    }
   ],
   "source": [
    "from dotenv import load_dotenv\n",
    "load_dotenv()"
   ]
  },
  {
   "cell_type": "code",
   "execution_count": 13,
   "metadata": {},
   "outputs": [
    {
     "data": {
      "text/plain": [
       "'Hello! How can I assist you today?'"
      ]
     },
     "execution_count": 13,
     "metadata": {},
     "output_type": "execute_result"
    }
   ],
   "source": [
    "from crewai import LLM\n",
    "\n",
    "llm = LLM(\n",
    "    model=\"openai/gpt-4o\",\n",
    "    temperature=0.1\n",
    ")\n",
    "\n",
    "llm.call(\"Hello\")"
   ]
  },
  {
   "cell_type": "code",
   "execution_count": 14,
   "metadata": {},
   "outputs": [],
   "source": [
    "from crewai import Agent, Task, Crew\n",
    "\n",
    "email_assistant = Agent(\n",
    "    role=\"Email Assistant Agent\",\n",
    "    goal=\"Improve emails and make them sound professional and clear\",\n",
    "    backstory=\"A highly experienced communication expert skilled in professional email writing\",\n",
    "    verbose=True,\n",
    "    llm=llm\n",
    ")"
   ]
  },
  {
   "cell_type": "code",
   "execution_count": 15,
   "metadata": {},
   "outputs": [],
   "source": [
    "original_email = \"\"\"\n",
    "Hey I am ai engineer, looking for opportunites for freelance, partime, fulltime etc..\n",
    "\"\"\""
   ]
  },
  {
   "cell_type": "code",
   "execution_count": 16,
   "metadata": {},
   "outputs": [],
   "source": [
    "email_task = Task(\n",
    "    description=f\"\"\"Take the following rough email and write it into a professional and polished version.\n",
    "    Expand abbreviation:\n",
    "    '''{original_email}'''\"\"\",\n",
    "    agent=email_assistant,\n",
    "    expected_output=\"A professional written email with proper formatting and contect.\"\n",
    ")"
   ]
  },
  {
   "cell_type": "code",
   "execution_count": 17,
   "metadata": {},
   "outputs": [],
   "source": [
    "crew = Crew(\n",
    "    agents=[email_assistant],\n",
    "    tasks=[email_task],\n",
    "    verbose=True\n",
    ")"
   ]
  },
  {
   "cell_type": "code",
   "execution_count": 18,
   "metadata": {},
   "outputs": [
    {
     "name": "stdout",
     "output_type": "stream",
     "text": [
      "\u001b[36m┌─\u001b[0m\u001b[36m─────────────────────────\u001b[0m\u001b[36m Crew Execution Started \u001b[0m\u001b[36m──────────────────────────\u001b[0m\u001b[36m─┐\u001b[0m\n",
      "\u001b[36m│\u001b[0m                                                                             \u001b[36m│\u001b[0m\n",
      "\u001b[36m│\u001b[0m  \u001b[1;36mCrew Execution Started\u001b[0m                                                     \u001b[36m│\u001b[0m\n",
      "\u001b[36m│\u001b[0m  \u001b[37mName: \u001b[0m\u001b[36mcrew\u001b[0m                                                                 \u001b[36m│\u001b[0m\n",
      "\u001b[36m│\u001b[0m  \u001b[37mID: \u001b[0m\u001b[36m36022571-9a8a-4f05-8099-74b81b2ba964\u001b[0m                                   \u001b[36m│\u001b[0m\n",
      "\u001b[36m│\u001b[0m  \u001b[37mTool Args: \u001b[0m                                                                \u001b[36m│\u001b[0m\n",
      "\u001b[36m│\u001b[0m                                                                             \u001b[36m│\u001b[0m\n",
      "\u001b[36m│\u001b[0m                                                                             \u001b[36m│\u001b[0m\n",
      "\u001b[36m└─────────────────────────────────────────────────────────────────────────────┘\u001b[0m\n",
      "\n",
      "\u001b[?25l\u001b[1;36m🚀 Crew: \u001b[0m\u001b[1;36mcrew\u001b[0m\n",
      "└── \u001b[1;33m📋 Task: cd69252d-a387-4127-9393-069eb60a65fa\u001b[0m\n",
      "    \u001b[37mStatus: \u001b[0m\u001b[2;33mExecuting Task...\u001b[0m\n",
      "\u001b[?25h\u001b[35m┌─\u001b[0m\u001b[35m────────────────────────────\u001b[0m\u001b[35m 🤖 Agent Started \u001b[0m\u001b[35m─────────────────────────────\u001b[0m\u001b[35m─┐\u001b[0m\n",
      "\u001b[35m│\u001b[0m                                                                             \u001b[35m│\u001b[0m\n",
      "\u001b[35m│\u001b[0m  \u001b[37mAgent: \u001b[0m\u001b[1;92mEmail Assistant Agent\u001b[0m                                               \u001b[35m│\u001b[0m\n",
      "\u001b[35m│\u001b[0m                                                                             \u001b[35m│\u001b[0m\n",
      "\u001b[35m│\u001b[0m  \u001b[37mTask: \u001b[0m\u001b[92mTake the following rough email and write it into a professional and\u001b[0m  \u001b[35m│\u001b[0m\n",
      "\u001b[35m│\u001b[0m  \u001b[92mpolished version.\u001b[0m                                                          \u001b[35m│\u001b[0m\n",
      "\u001b[35m│\u001b[0m  \u001b[92m    Expand abbreviation:\u001b[0m                                                   \u001b[35m│\u001b[0m\n",
      "\u001b[35m│\u001b[0m  \u001b[92m    '''\u001b[0m                                                                    \u001b[35m│\u001b[0m\n",
      "\u001b[35m│\u001b[0m  \u001b[92mHey I am ai engineer, looking for opportunites for freelance, partime, \u001b[0m    \u001b[35m│\u001b[0m\n",
      "\u001b[35m│\u001b[0m  \u001b[92mfulltime etc..\u001b[0m                                                             \u001b[35m│\u001b[0m\n",
      "\u001b[35m│\u001b[0m  \u001b[92m'''\u001b[0m                                                                        \u001b[35m│\u001b[0m\n",
      "\u001b[35m│\u001b[0m                                                                             \u001b[35m│\u001b[0m\n",
      "\u001b[35m└─────────────────────────────────────────────────────────────────────────────┘\u001b[0m\n",
      "\n",
      "\u001b[?25l\u001b[1;36m🚀 Crew: \u001b[0m\u001b[1;36mcrew\u001b[0m\n",
      "└── \u001b[1;33m📋 Task: cd69252d-a387-4127-9393-069eb60a65fa\u001b[0m\n",
      "    \u001b[37mStatus: \u001b[0m\u001b[2;33mExecuting Task...\u001b[0m\n",
      "\u001b[2K\u001b[1A\u001b[2K\u001b[1A\u001b[2K\u001b[1A\u001b[2K\u001b[1;36m🚀 Crew: \u001b[0m\u001b[1;36mcrew\u001b[0m\n",
      "└── \u001b[1;33m📋 Task: cd69252d-a387-4127-9393-069eb60a65fa\u001b[0m\n",
      "    \u001b[37mStatus: \u001b[0m\u001b[2;33mExecuting Task...\u001b[0m\n",
      "\u001b[2K\u001b[1A\u001b[2K\u001b[1A\u001b[2K\u001b[1A\u001b[2K\u001b[1;36m🚀 Crew: \u001b[0m\u001b[1;36mcrew\u001b[0m\n",
      "└── \u001b[1;33m📋 Task: cd69252d-a387-4127-9393-069eb60a65fa\u001b[0m\n",
      "    \u001b[37mStatus: \u001b[0m\u001b[2;33mExecuting Task...\u001b[0m\n",
      "\u001b[2K\u001b[1A\u001b[2K\u001b[1A\u001b[2K\u001b[1A\u001b[2K\u001b[1;36m🚀 Crew: \u001b[0m\u001b[1;36mcrew\u001b[0m\n",
      "└── \u001b[1;33m📋 Task: cd69252d-a387-4127-9393-069eb60a65fa\u001b[0m\n",
      "    \u001b[37mStatus: \u001b[0m\u001b[2;33mExecuting Task...\u001b[0m\n",
      "\u001b[2K\u001b[1A\u001b[2K\u001b[1A\u001b[2K\u001b[1A\u001b[2K\u001b[1;36m🚀 Crew: \u001b[0m\u001b[1;36mcrew\u001b[0m\n",
      "└── \u001b[1;33m📋 Task: cd69252d-a387-4127-9393-069eb60a65fa\u001b[0m\n",
      "    \u001b[37mStatus: \u001b[0m\u001b[2;33mExecuting Task...\u001b[0m\n",
      "\u001b[2K\u001b[1A\u001b[2K\u001b[1A\u001b[2K\u001b[1A\u001b[2K\u001b[1;36m🚀 Crew: \u001b[0m\u001b[1;36mcrew\u001b[0m\n",
      "└── \u001b[1;33m📋 Task: cd69252d-a387-4127-9393-069eb60a65fa\u001b[0m\n",
      "    \u001b[37mStatus: \u001b[0m\u001b[2;33mExecuting Task...\u001b[0m\n",
      "\u001b[2K\u001b[1A\u001b[2K\u001b[1A\u001b[2K\u001b[1A\u001b[2K\u001b[1;36m🚀 Crew: \u001b[0m\u001b[1;36mcrew\u001b[0m\n",
      "└── \u001b[1;33m📋 Task: cd69252d-a387-4127-9393-069eb60a65fa\u001b[0m\n",
      "    \u001b[37mStatus: \u001b[0m\u001b[2;33mExecuting Task...\u001b[0m\n",
      "\u001b[2K\u001b[1A\u001b[2K\u001b[1A\u001b[2K\u001b[1A\u001b[2K\u001b[1;36m🚀 Crew: \u001b[0m\u001b[1;36mcrew\u001b[0m\n",
      "└── \u001b[1;33m📋 Task: cd69252d-a387-4127-9393-069eb60a65fa\u001b[0m\n",
      "    \u001b[37mStatus: \u001b[0m\u001b[2;33mExecuting Task...\u001b[0m\n",
      "\u001b[2K\u001b[1A\u001b[2K\u001b[1A\u001b[2K\u001b[1A\u001b[2K\u001b[1;36m🚀 Crew: \u001b[0m\u001b[1;36mcrew\u001b[0m\n",
      "└── \u001b[1;33m📋 Task: cd69252d-a387-4127-9393-069eb60a65fa\u001b[0m\n",
      "    \u001b[37mStatus: \u001b[0m\u001b[2;33mExecuting Task...\u001b[0m\n",
      "\u001b[2K\u001b[1A\u001b[2K\u001b[1A\u001b[2K\u001b[1A\u001b[2K\u001b[1;36m🚀 Crew: \u001b[0m\u001b[1;36mcrew\u001b[0m\n",
      "└── \u001b[1;33m📋 Task: cd69252d-a387-4127-9393-069eb60a65fa\u001b[0m\n",
      "    \u001b[37mStatus: \u001b[0m\u001b[2;33mExecuting Task...\u001b[0m\n",
      "\u001b[2K\u001b[1A\u001b[2K\u001b[1A\u001b[2K\u001b[1A\u001b[2K\u001b[1;36m🚀 Crew: \u001b[0m\u001b[1;36mcrew\u001b[0m\n",
      "└── \u001b[1;33m📋 Task: cd69252d-a387-4127-9393-069eb60a65fa\u001b[0m\n",
      "    \u001b[37mStatus: \u001b[0m\u001b[2;33mExecuting Task...\u001b[0m\n",
      "\u001b[2K\u001b[1A\u001b[2K\u001b[1A\u001b[2K\u001b[1A\u001b[2K\u001b[1;36m🚀 Crew: \u001b[0m\u001b[1;36mcrew\u001b[0m\n",
      "└── \u001b[1;33m📋 Task: cd69252d-a387-4127-9393-069eb60a65fa\u001b[0m\n",
      "    \u001b[37mStatus: \u001b[0m\u001b[2;33mExecuting Task...\u001b[0m\n",
      "\u001b[2K\u001b[1A\u001b[2K\u001b[1A\u001b[2K\u001b[1A\u001b[2K\u001b[1;36m🚀 Crew: \u001b[0m\u001b[1;36mcrew\u001b[0m\n",
      "└── \u001b[1;33m📋 Task: cd69252d-a387-4127-9393-069eb60a65fa\u001b[0m\n",
      "    \u001b[37mStatus: \u001b[0m\u001b[2;33mExecuting Task...\u001b[0m\n",
      "\u001b[2K\u001b[1A\u001b[2K\u001b[1A\u001b[2K\u001b[1A\u001b[2K\u001b[1;36m🚀 Crew: \u001b[0m\u001b[1;36mcrew\u001b[0m\n",
      "└── \u001b[1;33m📋 Task: cd69252d-a387-4127-9393-069eb60a65fa\u001b[0m\n",
      "    \u001b[37mStatus: \u001b[0m\u001b[2;33mExecuting Task...\u001b[0m\n",
      "\u001b[2K\u001b[1A\u001b[2K\u001b[1A\u001b[2K\u001b[1A\u001b[2K\u001b[1;36m🚀 Crew: \u001b[0m\u001b[1;36mcrew\u001b[0m\n",
      "└── \u001b[1;33m📋 Task: cd69252d-a387-4127-9393-069eb60a65fa\u001b[0m\n",
      "\u001b[2K\u001b[1A\u001b[2K\u001b[1A\u001b[2K\u001b[1;36m🚀 Crew: \u001b[0m\u001b[1;36mcrew\u001b[0m\n",
      "└── \u001b[1;33m📋 Task: cd69252d-a387-4127-9393-069eb60a65fa\u001b[0m\n",
      "\u001b[2K\u001b[1A\u001b[2K\u001b[1A\u001b[2K\u001b[1;36m🚀 Crew: \u001b[0m\u001b[1;36mcrew\u001b[0m\n",
      "└── \u001b[1;33m📋 Task: cd69252d-a387-4127-9393-069eb60a65fa\u001b[0m\n",
      "    \u001b[37mStatus: \u001b[0m\u001b[2;33mExecuting Task...\u001b[0m\n",
      "\u001b[?25h\u001b[32m┌─\u001b[0m\u001b[32m──────────────────────────\u001b[0m\u001b[32m ✅ Agent Final Answer \u001b[0m\u001b[32m──────────────────────────\u001b[0m\u001b[32m─┐\u001b[0m\n",
      "\u001b[32m│\u001b[0m                                                                             \u001b[32m│\u001b[0m\n",
      "\u001b[32m│\u001b[0m  \u001b[37mAgent: \u001b[0m\u001b[1;92mEmail Assistant Agent\u001b[0m                                               \u001b[32m│\u001b[0m\n",
      "\u001b[32m│\u001b[0m                                                                             \u001b[32m│\u001b[0m\n",
      "\u001b[32m│\u001b[0m  \u001b[37mFinal Answer:\u001b[0m                                                              \u001b[32m│\u001b[0m\n",
      "\u001b[32m│\u001b[0m  \u001b[92mSubject: Inquiry About Freelance, Part-Time, or Full-Time Opportunities\u001b[0m    \u001b[32m│\u001b[0m\n",
      "\u001b[32m│\u001b[0m                                                                             \u001b[32m│\u001b[0m\n",
      "\u001b[32m│\u001b[0m  \u001b[92mDear [Recipient's Name],\u001b[0m                                                   \u001b[32m│\u001b[0m\n",
      "\u001b[32m│\u001b[0m                                                                             \u001b[32m│\u001b[0m\n",
      "\u001b[32m│\u001b[0m  \u001b[92mI hope this message finds you well. My name is [Your Name], and I am an \u001b[0m   \u001b[32m│\u001b[0m\n",
      "\u001b[32m│\u001b[0m  \u001b[92mArtificial Intelligence Engineer with a keen interest in exploring new \u001b[0m    \u001b[32m│\u001b[0m\n",
      "\u001b[32m│\u001b[0m  \u001b[92mopportunities. I am currently seeking freelance, part-time, or full-time \u001b[0m  \u001b[32m│\u001b[0m\n",
      "\u001b[32m│\u001b[0m  \u001b[92mpositions where I can contribute my skills and expertise in artificial \u001b[0m    \u001b[32m│\u001b[0m\n",
      "\u001b[32m│\u001b[0m  \u001b[92mintelligence.\u001b[0m                                                              \u001b[32m│\u001b[0m\n",
      "\u001b[32m│\u001b[0m                                                                             \u001b[32m│\u001b[0m\n",
      "\u001b[32m│\u001b[0m  \u001b[92mI am particularly interested in roles that allow me to apply my knowledge\u001b[0m  \u001b[32m│\u001b[0m\n",
      "\u001b[32m│\u001b[0m  \u001b[92min innovative and impactful ways. If there are any opportunities \u001b[0m          \u001b[32m│\u001b[0m\n",
      "\u001b[32m│\u001b[0m  \u001b[92mavailable within your organization or if you could direct me to someone \u001b[0m   \u001b[32m│\u001b[0m\n",
      "\u001b[32m│\u001b[0m  \u001b[92mwho might be able to assist, I would greatly appreciate it.\u001b[0m                \u001b[32m│\u001b[0m\n",
      "\u001b[32m│\u001b[0m                                                                             \u001b[32m│\u001b[0m\n",
      "\u001b[32m│\u001b[0m  \u001b[92mThank you for considering my inquiry. I look forward to the possibility \u001b[0m   \u001b[32m│\u001b[0m\n",
      "\u001b[32m│\u001b[0m  \u001b[92mof discussing potential opportunities with you.\u001b[0m                            \u001b[32m│\u001b[0m\n",
      "\u001b[32m│\u001b[0m                                                                             \u001b[32m│\u001b[0m\n",
      "\u001b[32m│\u001b[0m  \u001b[92mWarm regards,\u001b[0m                                                              \u001b[32m│\u001b[0m\n",
      "\u001b[32m│\u001b[0m                                                                             \u001b[32m│\u001b[0m\n",
      "\u001b[32m│\u001b[0m  \u001b[92m[Your Full Name]  \u001b[0m                                                         \u001b[32m│\u001b[0m\n",
      "\u001b[32m│\u001b[0m  \u001b[92m[Your Contact Information]  \u001b[0m                                               \u001b[32m│\u001b[0m\n",
      "\u001b[32m│\u001b[0m  \u001b[92m[Your LinkedIn Profile or Professional Website, if applicable]\u001b[0m             \u001b[32m│\u001b[0m\n",
      "\u001b[32m│\u001b[0m                                                                             \u001b[32m│\u001b[0m\n",
      "\u001b[32m└─────────────────────────────────────────────────────────────────────────────┘\u001b[0m\n",
      "\n",
      "\u001b[?25l\u001b[1;36m🚀 Crew: \u001b[0m\u001b[1;36mcrew\u001b[0m\n",
      "└── \u001b[1;32m📋 Task: cd69252d-a387-4127-9393-069eb60a65fa\u001b[0m\n",
      "    \u001b[37mAssigned to: \u001b[0m\u001b[32mEmail Assistant Agent\u001b[0m\n",
      "    \u001b[37mStatus: \u001b[0m\u001b[1;32m✅ Completed\u001b[0m\n",
      "\u001b[?25h\u001b[32m┌─\u001b[0m\u001b[32m─────────────────────────────\u001b[0m\u001b[32m Task Completion \u001b[0m\u001b[32m─────────────────────────────\u001b[0m\u001b[32m─┐\u001b[0m\n",
      "\u001b[32m│\u001b[0m                                                                             \u001b[32m│\u001b[0m\n",
      "\u001b[32m│\u001b[0m  \u001b[1;32mTask Completed\u001b[0m                                                             \u001b[32m│\u001b[0m\n",
      "\u001b[32m│\u001b[0m  \u001b[37mName: \u001b[0m\u001b[32mcd69252d-a387-4127-9393-069eb60a65fa\u001b[0m                                 \u001b[32m│\u001b[0m\n",
      "\u001b[32m│\u001b[0m  \u001b[37mAgent: \u001b[0m\u001b[32mEmail Assistant Agent\u001b[0m                                               \u001b[32m│\u001b[0m\n",
      "\u001b[32m│\u001b[0m  \u001b[37mTool Args: \u001b[0m                                                                \u001b[32m│\u001b[0m\n",
      "\u001b[32m│\u001b[0m                                                                             \u001b[32m│\u001b[0m\n",
      "\u001b[32m│\u001b[0m                                                                             \u001b[32m│\u001b[0m\n",
      "\u001b[32m└─────────────────────────────────────────────────────────────────────────────┘\u001b[0m\n",
      "\n",
      "\u001b[32m┌─\u001b[0m\u001b[32m─────────────────────────────\u001b[0m\u001b[32m Crew Completion \u001b[0m\u001b[32m─────────────────────────────\u001b[0m\u001b[32m─┐\u001b[0m\n",
      "\u001b[32m│\u001b[0m                                                                             \u001b[32m│\u001b[0m\n",
      "\u001b[32m│\u001b[0m  \u001b[1;32mCrew Execution Completed\u001b[0m                                                   \u001b[32m│\u001b[0m\n",
      "\u001b[32m│\u001b[0m  \u001b[37mName: \u001b[0m\u001b[32mcrew\u001b[0m                                                                 \u001b[32m│\u001b[0m\n",
      "\u001b[32m│\u001b[0m  \u001b[37mID: \u001b[0m\u001b[32m36022571-9a8a-4f05-8099-74b81b2ba964\u001b[0m                                   \u001b[32m│\u001b[0m\n",
      "\u001b[32m│\u001b[0m  \u001b[37mTool Args: \u001b[0m                                                                \u001b[32m│\u001b[0m\n",
      "\u001b[32m│\u001b[0m  \u001b[37mFinal Output: Subject: Inquiry About Freelance, Part-Time, or Full-Time \u001b[0m   \u001b[32m│\u001b[0m\n",
      "\u001b[32m│\u001b[0m  \u001b[37mOpportunities\u001b[0m                                                              \u001b[32m│\u001b[0m\n",
      "\u001b[32m│\u001b[0m                                                                             \u001b[32m│\u001b[0m\n",
      "\u001b[32m│\u001b[0m  \u001b[37mDear [Recipient's Name],\u001b[0m                                                   \u001b[32m│\u001b[0m\n",
      "\u001b[32m│\u001b[0m                                                                             \u001b[32m│\u001b[0m\n",
      "\u001b[32m│\u001b[0m  \u001b[37mI hope this message finds you well. My name is [Your Name], and I am an \u001b[0m   \u001b[32m│\u001b[0m\n",
      "\u001b[32m│\u001b[0m  \u001b[37mArtificial Intelligence Engineer with a keen interest in exploring new \u001b[0m    \u001b[32m│\u001b[0m\n",
      "\u001b[32m│\u001b[0m  \u001b[37mopportunities. I am currently seeking freelance, part-time, or full-time \u001b[0m  \u001b[32m│\u001b[0m\n",
      "\u001b[32m│\u001b[0m  \u001b[37mpositions where I can contribute my skills and expertise in artificial \u001b[0m    \u001b[32m│\u001b[0m\n",
      "\u001b[32m│\u001b[0m  \u001b[37mintelligence.\u001b[0m                                                              \u001b[32m│\u001b[0m\n",
      "\u001b[32m│\u001b[0m                                                                             \u001b[32m│\u001b[0m\n",
      "\u001b[32m│\u001b[0m  \u001b[37mI am particularly interested in roles that allow me to apply my knowledge\u001b[0m  \u001b[32m│\u001b[0m\n",
      "\u001b[32m│\u001b[0m  \u001b[37min innovative and impactful ways. If there are any opportunities \u001b[0m          \u001b[32m│\u001b[0m\n",
      "\u001b[32m│\u001b[0m  \u001b[37mavailable within your organization or if you could direct me to someone \u001b[0m   \u001b[32m│\u001b[0m\n",
      "\u001b[32m│\u001b[0m  \u001b[37mwho might be able to assist, I would greatly appreciate it.\u001b[0m                \u001b[32m│\u001b[0m\n",
      "\u001b[32m│\u001b[0m                                                                             \u001b[32m│\u001b[0m\n",
      "\u001b[32m│\u001b[0m  \u001b[37mThank you for considering my inquiry. I look forward to the possibility \u001b[0m   \u001b[32m│\u001b[0m\n",
      "\u001b[32m│\u001b[0m  \u001b[37mof discussing potential opportunities with you.\u001b[0m                            \u001b[32m│\u001b[0m\n",
      "\u001b[32m│\u001b[0m                                                                             \u001b[32m│\u001b[0m\n",
      "\u001b[32m│\u001b[0m  \u001b[37mWarm regards,\u001b[0m                                                              \u001b[32m│\u001b[0m\n",
      "\u001b[32m│\u001b[0m                                                                             \u001b[32m│\u001b[0m\n",
      "\u001b[32m│\u001b[0m  \u001b[37m[Your Full Name]  \u001b[0m                                                         \u001b[32m│\u001b[0m\n",
      "\u001b[32m│\u001b[0m  \u001b[37m[Your Contact Information]  \u001b[0m                                               \u001b[32m│\u001b[0m\n",
      "\u001b[32m│\u001b[0m  \u001b[37m[Your LinkedIn Profile or Professional Website, if applicable]\u001b[0m             \u001b[32m│\u001b[0m\n",
      "\u001b[32m│\u001b[0m                                                                             \u001b[32m│\u001b[0m\n",
      "\u001b[32m│\u001b[0m                                                                             \u001b[32m│\u001b[0m\n",
      "\u001b[32m└─────────────────────────────────────────────────────────────────────────────┘\u001b[0m\n",
      "\n",
      "Subject: Inquiry About Freelance, Part-Time, or Full-Time Opportunities\n",
      "\n",
      "Dear [Recipient's Name],\n",
      "\n",
      "I hope this message finds you well. My name is [Your Name], and I am an Artificial Intelligence Engineer with a keen interest in exploring new opportunities. I am currently seeking freelance, part-time, or full-time positions where I can contribute my skills and expertise in artificial intelligence.\n",
      "\n",
      "I am particularly interested in roles that allow me to apply my knowledge in innovative and impactful ways. If there are any opportunities available within your organization or if you could direct me to someone who might be able to assist, I would greatly appreciate it.\n",
      "\n",
      "Thank you for considering my inquiry. I look forward to the possibility of discussing potential opportunities with you.\n",
      "\n",
      "Warm regards,\n",
      "\n",
      "[Your Full Name]  \n",
      "[Your Contact Information]  \n",
      "[Your LinkedIn Profile or Professional Website, if applicable]\n"
     ]
    }
   ],
   "source": [
    "result = crew.kickoff()\n",
    "print(result)\n"
   ]
  },
  {
   "cell_type": "code",
   "execution_count": null,
   "metadata": {},
   "outputs": [],
   "source": [
    "  "
   ]
  }
 ],
 "metadata": {
  "kernelspec": {
   "display_name": ".venv",
   "language": "python",
   "name": "python3"
  },
  "language_info": {
   "codemirror_mode": {
    "name": "ipython",
    "version": 3
   },
   "file_extension": ".py",
   "mimetype": "text/x-python",
   "name": "python",
   "nbconvert_exporter": "python",
   "pygments_lexer": "ipython3",
   "version": "3.13.3"
  }
 },
 "nbformat": 4,
 "nbformat_minor": 2
}
